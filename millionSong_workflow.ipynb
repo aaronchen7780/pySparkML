{
 "cells": [
  {
   "attachments": {},
   "cell_type": "markdown",
   "metadata": {
    "application/vnd.databricks.v1+cell": {
     "inputWidgets": {},
     "nuid": "3867f4ce-7b80-4976-9198-e1cfa31e90dc",
     "showTitle": false,
     "title": ""
    },
    "id": "cOnNoPPlbGOd"
   },
   "source": [
    "# ML Workflow with Million Song Dataset "
   ]
  },
  {
   "attachments": {},
   "cell_type": "markdown",
   "metadata": {
    "application/vnd.databricks.v1+cell": {
     "inputWidgets": {},
     "nuid": "4cedccf5-c707-442c-be0e-56922d3a080f",
     "showTitle": false,
     "title": ""
    },
    "id": "IdgzxKxwbGOh"
   },
   "source": [
    "### 0. Starting Spark Session / Install Libraries"
   ]
  },
  {
   "cell_type": "code",
   "execution_count": 1,
   "metadata": {
    "application/vnd.databricks.v1+cell": {
     "inputWidgets": {},
     "nuid": "484df638-6b78-47fe-b9d3-0d08c79398e5",
     "showTitle": false,
     "title": ""
    },
    "id": "EQrVmpuIbGOh"
   },
   "outputs": [
    {
     "name": "stdout",
     "output_type": "stream",
     "text": [
      "Starting Spark application\n"
     ]
    },
    {
     "data": {
      "text/html": [
       "<table>\n",
       "<tr><th>ID</th><th>YARN Application ID</th><th>Kind</th><th>State</th><th>Spark UI</th><th>Driver log</th><th>User</th><th>Current session?</th></tr><tr><td>3</td><td>application_1680138161878_0004</td><td>pyspark</td><td>idle</td><td><a target=\"_blank\" href=\"http://ip-172-31-82-196.ec2.internal:20888/proxy/application_1680138161878_0004/\">Link</a></td><td><a target=\"_blank\" href=\"http://ip-172-31-80-208.ec2.internal:8042/node/containerlogs/container_1680138161878_0004_01_000001/livy\">Link</a></td><td>None</td><td>✔</td></tr></table>"
      ],
      "text/plain": [
       "<IPython.core.display.HTML object>"
      ]
     },
     "metadata": {},
     "output_type": "display_data"
    },
    {
     "data": {
      "application/vnd.jupyter.widget-view+json": {
       "model_id": "",
       "version_major": 2,
       "version_minor": 0
      },
      "text/plain": [
       "FloatProgress(value=0.0, bar_style='info', description='Progress:', layout=Layout(height='25px', width='50%'),…"
      ]
     },
     "metadata": {},
     "output_type": "display_data"
    },
    {
     "name": "stdout",
     "output_type": "stream",
     "text": [
      "SparkSession available as 'spark'.\n"
     ]
    },
    {
     "data": {
      "application/vnd.jupyter.widget-view+json": {
       "model_id": "",
       "version_major": 2,
       "version_minor": 0
      },
      "text/plain": [
       "FloatProgress(value=0.0, bar_style='info', description='Progress:', layout=Layout(height='25px', width='50%'),…"
      ]
     },
     "metadata": {},
     "output_type": "display_data"
    },
    {
     "name": "stdout",
     "output_type": "stream",
     "text": [
      "num executors: 3"
     ]
    }
   ],
   "source": [
    "from pyspark.sql import *\n",
    "import matplotlib.pyplot as plt\n",
    "import numpy as np\n",
    "\n",
    "sc = spark.sparkContext\n",
    "print(f'num executors: {sc.getConf().get(\"spark.executor.instances\")}')"
   ]
  },
  {
   "attachments": {},
   "cell_type": "markdown",
   "metadata": {
    "application/vnd.databricks.v1+cell": {
     "inputWidgets": {},
     "nuid": "5dad8a9c-b4d3-4274-8521-27267223d7ef",
     "showTitle": false,
     "title": ""
    },
    "id": "AbkX3VxWbGOj"
   },
   "source": [
    "### 1. Data Loading and Preparation from S3"
   ]
  },
  {
   "cell_type": "code",
   "execution_count": 3,
   "metadata": {
    "application/vnd.databricks.v1+cell": {
     "inputWidgets": {},
     "nuid": "714d2f77-a394-477b-a40a-62f6b2536eae",
     "showTitle": false,
     "title": ""
    },
    "id": "ZG5MFx3VbGOk"
   },
   "outputs": [
    {
     "data": {
      "application/vnd.jupyter.widget-view+json": {
       "model_id": "",
       "version_major": 2,
       "version_minor": 0
      },
      "text/plain": [
       "FloatProgress(value=0.0, bar_style='info', description='Progress:', layout=Layout(height='25px', width='50%'),…"
      ]
     },
     "metadata": {},
     "output_type": "display_data"
    }
   ],
   "source": [
    "from pyspark.sql.types import DoubleType, StringType, StructField, StructType\n",
    "\n",
    "schema = StructType([StructField('song_hotttnesss', DoubleType(), True),\n",
    "                       StructField('artist_familiarity', DoubleType(), True),\n",
    "                       StructField('artist_hotttnesss', DoubleType(), True),\n",
    "                       StructField('artist_id', StringType(), True),\n",
    "                       StructField('artist_latitude', DoubleType(), True),\n",
    "                       StructField('artist_location', StringType(), True),\n",
    "                       StructField('artist_longitude', DoubleType(), True),\n",
    "                       StructField('artist_name', StringType(), True),\n",
    "                       StructField('title', StringType(), True),\n",
    "                       StructField('danceability', DoubleType(), True),\n",
    "                       StructField('duration', DoubleType(), True),\n",
    "                       StructField('end_of_fade_in', DoubleType(), True),\n",
    "                       StructField('energy', DoubleType(), True),\n",
    "                       StructField('key', DoubleType(), True),\n",
    "                       StructField('key_confidence', DoubleType(), True),\n",
    "                       StructField('loudness', DoubleType(), True),\n",
    "                       StructField('mode', DoubleType(), True),\n",
    "                       StructField('mode_confidence', DoubleType(), True),\n",
    "                       StructField('start_of_fade_out', DoubleType(), True),\n",
    "                       StructField('tempo', DoubleType(), True),\n",
    "                       StructField('time_signature', DoubleType(), True),\n",
    "                       StructField('time_signature_confidence', DoubleType(), True),\n",
    "                       StructField('artist_terms', StringType(), True),\n",
    "                       StructField('artist_terms_freq', StringType(), True),\n",
    "                       StructField('artist_terms_weight', StringType(), True),\n",
    "                       StructField('year', DoubleType(), True)]\n",
    "                   )"
   ]
  },
  {
   "cell_type": "code",
   "execution_count": 4,
   "metadata": {
    "application/vnd.databricks.v1+cell": {
     "inputWidgets": {},
     "nuid": "f365d6b4-6a95-43ae-b4eb-7b4e87d6cee4",
     "showTitle": false,
     "title": ""
    },
    "id": "VkMM1pqSbGOl"
   },
   "outputs": [
    {
     "data": {
      "application/vnd.jupyter.widget-view+json": {
       "model_id": "",
       "version_major": 2,
       "version_minor": 0
      },
      "text/plain": [
       "FloatProgress(value=0.0, bar_style='info', description='Progress:', layout=Layout(height='25px', width='50%'),…"
      ]
     },
     "metadata": {},
     "output_type": "display_data"
    },
    {
     "name": "stdout",
     "output_type": "stream",
     "text": [
      "loaded 581965 records"
     ]
    }
   ],
   "source": [
    "load_subset = False\n",
    "s3_bucket_name = 'hw4bucket-yuanche2'\n",
    "\n",
    "if load_subset:\n",
    "    df = spark.read.format(\"csv\")\\\n",
    "        .option(\"header\", \"false\")\\\n",
    "        .option(\"nanValue\", \"nan\")\\\n",
    "        .option(\"quote\", \"\\\"\")\\\n",
    "        .option(\"escape\", \"\\\"\")\\\n",
    "        .schema(schema)\\\n",
    "        .load(f\"s3://{s3_bucket_name}/processed/A_1.csv\")\n",
    "else:\n",
    "    df = spark.read.format(\"csv\")\\\n",
    "        .option(\"header\", \"false\")\\\n",
    "        .option(\"nanValue\", \"nan\")\\\n",
    "        .option(\"quote\", \"\\\"\")\\\n",
    "        .option(\"escape\", \"\\\"\")\\\n",
    "        .schema(schema)\\\n",
    "        .load(f\"s3://{s3_bucket_name}/processed/*.csv\")\n",
    "\n",
    "print('loaded {} records'.format(df.count()))\n",
    "\n",
    "fulldfSize = df.count()"
   ]
  },
  {
   "cell_type": "code",
   "execution_count": 5,
   "metadata": {
    "application/vnd.databricks.v1+cell": {
     "inputWidgets": {},
     "nuid": "46627166-6d11-4c7a-a7eb-03943226ff03",
     "showTitle": false,
     "title": ""
    },
    "id": "87ggwTuMbGOm"
   },
   "outputs": [
    {
     "data": {
      "application/vnd.jupyter.widget-view+json": {
       "model_id": "",
       "version_major": 2,
       "version_minor": 0
      },
      "text/plain": [
       "FloatProgress(value=0.0, bar_style='info', description='Progress:', layout=Layout(height='25px', width='50%'),…"
      ]
     },
     "metadata": {},
     "output_type": "display_data"
    },
    {
     "name": "stdout",
     "output_type": "stream",
     "text": [
      "root\n",
      " |-- song_hotttnesss: double (nullable = true)\n",
      " |-- artist_familiarity: double (nullable = true)\n",
      " |-- artist_hotttnesss: double (nullable = true)\n",
      " |-- artist_id: string (nullable = true)\n",
      " |-- artist_latitude: double (nullable = true)\n",
      " |-- artist_location: string (nullable = true)\n",
      " |-- artist_longitude: double (nullable = true)\n",
      " |-- artist_name: string (nullable = true)\n",
      " |-- title: string (nullable = true)\n",
      " |-- danceability: double (nullable = true)\n",
      " |-- duration: double (nullable = true)\n",
      " |-- end_of_fade_in: double (nullable = true)\n",
      " |-- energy: double (nullable = true)\n",
      " |-- key: double (nullable = true)\n",
      " |-- key_confidence: double (nullable = true)\n",
      " |-- loudness: double (nullable = true)\n",
      " |-- mode: double (nullable = true)\n",
      " |-- mode_confidence: double (nullable = true)\n",
      " |-- start_of_fade_out: double (nullable = true)\n",
      " |-- tempo: double (nullable = true)\n",
      " |-- time_signature: double (nullable = true)\n",
      " |-- time_signature_confidence: double (nullable = true)\n",
      " |-- artist_terms: string (nullable = true)\n",
      " |-- artist_terms_freq: string (nullable = true)\n",
      " |-- artist_terms_weight: string (nullable = true)\n",
      " |-- year: double (nullable = true)"
     ]
    }
   ],
   "source": [
    "df.printSchema()"
   ]
  },
  {
   "attachments": {},
   "cell_type": "markdown",
   "metadata": {
    "application/vnd.databricks.v1+cell": {
     "inputWidgets": {},
     "nuid": "3cebafaa-b3a9-4a1c-9118-42e9ec98a1da",
     "showTitle": false,
     "title": ""
    },
    "id": "jr6kvrk8bGOn"
   },
   "source": [
    "### 2. Exploratory Data Analysis"
   ]
  },
  {
   "attachments": {},
   "cell_type": "markdown",
   "metadata": {
    "application/vnd.databricks.v1+cell": {
     "inputWidgets": {},
     "nuid": "98330ff9-d36b-4384-b334-f8b6a6daea03",
     "showTitle": false,
     "title": ""
    },
    "id": "oJL6fIm9bGOn"
   },
   "source": [
    "`danceability` and `energy` are not well-defined, we will remove them. `year` is also bimodally distributed. We will work with songs after 1920.  "
   ]
  },
  {
   "cell_type": "code",
   "execution_count": 7,
   "metadata": {
    "application/vnd.databricks.v1+cell": {
     "inputWidgets": {},
     "nuid": "f50cf7a6-6c68-49a0-ac60-1fce85ede4a9",
     "showTitle": false,
     "title": ""
    },
    "id": "vLN7d7BhbGOo"
   },
   "outputs": [
    {
     "data": {
      "application/vnd.jupyter.widget-view+json": {
       "model_id": "",
       "version_major": 2,
       "version_minor": 0
      },
      "text/plain": [
       "FloatProgress(value=0.0, bar_style='info', description='Progress:', layout=Layout(height='25px', width='50%'),…"
      ]
     },
     "metadata": {},
     "output_type": "display_data"
    }
   ],
   "source": [
    "plt.clf()\n",
    "\n",
    "dfSample = df.sample(fraction = 0.01)\n",
    "\n",
    "songHot = dfSample.rdd.map(lambda row: row.song_hotttnesss).collect()\n",
    "fam =  dfSample.rdd.map(lambda row: row.artist_familiarity).collect()\n",
    "artHot =  dfSample.rdd.map(lambda row: row.artist_hotttnesss).collect()\n",
    "duration =  dfSample.rdd.map(lambda row: row.duration).collect()\n",
    "tempo =  dfSample.rdd.map(lambda row: row.tempo).collect()\n",
    "year =  dfSample.rdd.map(lambda row: row.year).collect()\n",
    "\n",
    "\n",
    "fig, ax = plt.subplots(3, 2)\n",
    "fig.tight_layout(h_pad=3)\n",
    "\n",
    "#define subplot titles\n",
    "ax[0, 0].set_title('Histogram of song_hotttnesss')\n",
    "ax[0, 1].set_title('Histogram of artist_familiarity')\n",
    "ax[1, 0].set_title('Histogram of artist_hotttnesss')\n",
    "ax[1, 1].set_title('Histogram of duration')\n",
    "ax[2, 0].set_title('Histogram of tempo')\n",
    "ax[2, 1].set_title('Histogram of year')\n",
    "\n",
    "\n",
    "\n",
    "plt.subplot(3, 2, 1)\n",
    "plt.hist(songHot)\n",
    "plt.xlabel('song_hotttnesss')\n",
    "\n",
    "plt.subplot(3, 2, 2)\n",
    "plt.hist(fam)\n",
    "plt.xlabel('artist_familiarity')\n",
    "\n",
    "plt.subplot(3, 2, 3)\n",
    "plt.hist(artHot)\n",
    "plt.xlabel('artist_hotttnesss')\n",
    "\n",
    "plt.subplot(3, 2, 4)\n",
    "plt.hist(duration)\n",
    "plt.xlabel('duration')\n",
    "\n",
    "\n",
    "plt.subplot(3, 2, 5)\n",
    "plt.hist(tempo)\n",
    "plt.xlabel('tempo')\n",
    "\n",
    "\n",
    "plt.subplot(3, 2, 6)\n",
    "plt.hist(year)\n",
    "plt.xlabel('year')\n",
    "\n",
    "\n",
    "plt.show()"
   ]
  },
  {
   "cell_type": "code",
   "execution_count": 8,
   "metadata": {},
   "outputs": [
    {
     "data": {
      "application/vnd.jupyter.widget-view+json": {
       "model_id": "",
       "version_major": 2,
       "version_minor": 0
      },
      "text/plain": [
       "FloatProgress(value=0.0, bar_style='info', description='Progress:', layout=Layout(height='25px', width='50%'),…"
      ]
     },
     "metadata": {},
     "output_type": "display_data"
    },
    {
     "data": {
      "image/png": "[encoded data removed]",
      "text/plain": [
       "<IPython.core.display.Image object>"
      ]
     },
     "metadata": {},
     "output_type": "display_data"
    }
   ],
   "source": [
    "%matplot plt"
   ]
  },
  {
   "cell_type": "code",
   "execution_count": 9,
   "metadata": {},
   "outputs": [
    {
     "data": {
      "application/vnd.jupyter.widget-view+json": {
       "model_id": "",
       "version_major": 2,
       "version_minor": 0
      },
      "text/plain": [
       "FloatProgress(value=0.0, bar_style='info', description='Progress:', layout=Layout(height='25px', width='50%'),…"
      ]
     },
     "metadata": {},
     "output_type": "display_data"
    }
   ],
   "source": [
    "plt.clf()\n",
    "dfSample = dfSample.filter(df.year >= 1920)\n",
    "\n",
    "yearNew =  dfSample.rdd.map(lambda row: row.year).filter(lambda year: year >= 1920).collect()\n",
    "\n",
    "plt.hist(yearNew)\n",
    "plt.xlabel('year')\n",
    "plt.title(\"Histogram of year (cleaned)\")\n",
    "plt.show()"
   ]
  },
  {
   "cell_type": "code",
   "execution_count": 10,
   "metadata": {},
   "outputs": [
    {
     "data": {
      "application/vnd.jupyter.widget-view+json": {
       "model_id": "",
       "version_major": 2,
       "version_minor": 0
      },
      "text/plain": [
       "FloatProgress(value=0.0, bar_style='info', description='Progress:', layout=Layout(height='25px', width='50%'),…"
      ]
     },
     "metadata": {},
     "output_type": "display_data"
    },
    {
     "data": {
      "image/png": "[encoded data removed]",
      "text/plain": [
       "<IPython.core.display.Image object>"
      ]
     },
     "metadata": {},
     "output_type": "display_data"
    }
   ],
   "source": [
    "%matplot plt"
   ]
  },
  {
   "attachments": {},
   "cell_type": "markdown",
   "metadata": {
    "application/vnd.databricks.v1+cell": {
     "inputWidgets": {},
     "nuid": "8a8f8438-166b-44aa-ad20-2cdc3fafdcb3",
     "showTitle": false,
     "title": ""
    },
    "id": "g8OM2ZiEbGOo"
   },
   "source": [
    "We will now subsample our dataset to produce some relevant scatterplots. "
   ]
  },
  {
   "cell_type": "code",
   "execution_count": 11,
   "metadata": {
    "application/vnd.databricks.v1+cell": {
     "inputWidgets": {},
     "nuid": "41f7f371-fbec-4988-b12c-8e3dd3567488",
     "showTitle": false,
     "title": ""
    },
    "id": "1S111QAjbGOo"
   },
   "outputs": [
    {
     "data": {
      "application/vnd.jupyter.widget-view+json": {
       "model_id": "",
       "version_major": 2,
       "version_minor": 0
      },
      "text/plain": [
       "FloatProgress(value=0.0, bar_style='info', description='Progress:', layout=Layout(height='25px', width='50%'),…"
      ]
     },
     "metadata": {},
     "output_type": "display_data"
    }
   ],
   "source": [
    "songHot = dfSample.rdd.map(lambda row: row.song_hotttnesss).collect()\n",
    "fam =  dfSample.rdd.map(lambda row: row.artist_familiarity).collect()\n",
    "artHot =  dfSample.rdd.map(lambda row: row.artist_hotttnesss).collect()\n",
    "duration =  dfSample.rdd.map(lambda row: row.duration).collect()\n",
    "tempo =  dfSample.rdd.map(lambda row: row.tempo).collect()\n",
    "year =  dfSample.rdd.map(lambda row: row.year).collect()\n",
    "lat =  dfSample.rdd.map(lambda row: row.artist_latitude).collect()\n",
    "long =  dfSample.rdd.map(lambda row: row.artist_longitude).collect()\n",
    "\n",
    "plt.clf()\n",
    "\n",
    "fig, ax = plt.subplots(3, 1, figsize=(7,10))\n",
    "fig.tight_layout(w_pad = 5,h_pad=3.5)\n",
    "plt.subplots_adjust(left = 0.1)\n",
    "\n",
    "\n",
    "#define subplot titles\n",
    "ax[0].set_title('song_hotttnesss vs. artist_familiarity')\n",
    "ax[1].set_title('artist_latitude vs. artist_longitude')\n",
    "ax[2].set_title('song_hotttnesss vs. year')\n",
    "\n",
    "plt.subplot(3, 1, 1)\n",
    "plt.scatter(fam, songHot)\n",
    "plt.ylabel('song_hotttnesss')\n",
    "plt.xlabel(\"song_familiarity\")\n",
    "\n",
    "plt.subplot(3, 1, 2)\n",
    "plt.scatter(long, lat)\n",
    "plt.xlabel('artist_longitude')\n",
    "plt.ylabel(\"artist_latitude\")\n",
    "\n",
    "plt.subplot(3, 1, 3)\n",
    "plt.scatter(year, artHot)\n",
    "plt.xlabel('year')\n",
    "plt.ylabel(\"artist_hotttnesss\")\n",
    "\n",
    "plt.show()"
   ]
  },
  {
   "cell_type": "code",
   "execution_count": 12,
   "metadata": {},
   "outputs": [
    {
     "data": {
      "application/vnd.jupyter.widget-view+json": {
       "model_id": "",
       "version_major": 2,
       "version_minor": 0
      },
      "text/plain": [
       "FloatProgress(value=0.0, bar_style='info', description='Progress:', layout=Layout(height='25px', width='50%'),…"
      ]
     },
     "metadata": {},
     "output_type": "display_data"
    },
    {
     "data": {
      "image/png": "[encoded data removed]",
      "text/plain": [
       "<IPython.core.display.Image object>"
      ]
     },
     "metadata": {},
     "output_type": "display_data"
    }
   ],
   "source": [
    "%matplot plt"
   ]
  },
  {
   "attachments": {},
   "cell_type": "markdown",
   "metadata": {
    "application/vnd.databricks.v1+cell": {
     "inputWidgets": {},
     "nuid": "b8a46234-ae5e-4ab7-ba35-4c9a08043c23",
     "showTitle": false,
     "title": ""
    },
    "id": "edOR1LYvbGOo"
   },
   "source": [
    "### 3. Data Cleaning\n",
    "\n",
    "First drop `energy` and `danceability` features and year below 1920. \n",
    "\n"
   ]
  },
  {
   "cell_type": "code",
   "execution_count": 13,
   "metadata": {
    "application/vnd.databricks.v1+cell": {
     "inputWidgets": {},
     "nuid": "b491848b-96be-4af8-a64b-4bdecbf907cc",
     "showTitle": false,
     "title": ""
    },
    "id": "K_qoFKDKbGOp"
   },
   "outputs": [
    {
     "data": {
      "application/vnd.jupyter.widget-view+json": {
       "model_id": "",
       "version_major": 2,
       "version_minor": 0
      },
      "text/plain": [
       "FloatProgress(value=0.0, bar_style='info', description='Progress:', layout=Layout(height='25px', width='50%'),…"
      ]
     },
     "metadata": {},
     "output_type": "display_data"
    }
   ],
   "source": [
    "df = df.drop(\"energy\")\n",
    "df = df.drop(\"danceability\")\n",
    "df = df.filter(df.year >= 1920)"
   ]
  },
  {
   "cell_type": "code",
   "execution_count": 14,
   "metadata": {
    "application/vnd.databricks.v1+cell": {
     "inputWidgets": {},
     "nuid": "cd1fb1a7-628b-4f18-b728-d874fa2eecc2",
     "showTitle": false,
     "title": ""
    },
    "id": "IntPLzb0bGOp"
   },
   "outputs": [
    {
     "data": {
      "application/vnd.jupyter.widget-view+json": {
       "model_id": "",
       "version_major": 2,
       "version_minor": 0
      },
      "text/plain": [
       "FloatProgress(value=0.0, bar_style='info', description='Progress:', layout=Layout(height='25px', width='50%'),…"
      ]
     },
     "metadata": {},
     "output_type": "display_data"
    },
    {
     "name": "stdout",
     "output_type": "stream",
     "text": [
      "Remaining records: 346444"
     ]
    }
   ],
   "source": [
    "print('Remaining records: {}'.format(df.count()))"
   ]
  },
  {
   "attachments": {},
   "cell_type": "markdown",
   "metadata": {
    "application/vnd.databricks.v1+cell": {
     "inputWidgets": {},
     "nuid": "0139eb2c-2151-44fb-bc95-da9e1939574f",
     "showTitle": false,
     "title": ""
    },
    "id": "cfPJkDifbGOp"
   },
   "source": [
    "We realize some `arrtist_longitude` and `artist_latitiude` values are null. Will remove those with null values. "
   ]
  },
  {
   "cell_type": "code",
   "execution_count": 15,
   "metadata": {
    "application/vnd.databricks.v1+cell": {
     "inputWidgets": {},
     "nuid": "2ee11481-e983-42b7-a35c-67f2cd0bfd58",
     "showTitle": false,
     "title": ""
    },
    "id": "NUFuO6SrbGOq"
   },
   "outputs": [
    {
     "data": {
      "application/vnd.jupyter.widget-view+json": {
       "model_id": "",
       "version_major": 2,
       "version_minor": 0
      },
      "text/plain": [
       "FloatProgress(value=0.0, bar_style='info', description='Progress:', layout=Layout(height='25px', width='50%'),…"
      ]
     },
     "metadata": {},
     "output_type": "display_data"
    },
    {
     "name": "stdout",
     "output_type": "stream",
     "text": [
      "[Row(song_hotttnesss=0, artist_familiarity=1, artist_hotttnesss=0, artist_id=0, artist_latitude=219399, artist_location=0, artist_longitude=219399, artist_name=0, title=1, duration=0, end_of_fade_in=0, key=0, key_confidence=0, loudness=0, mode=0, mode_confidence=0, start_of_fade_out=0, tempo=0, time_signature=0, time_signature_confidence=0, artist_terms=0, artist_terms_freq=0, artist_terms_weight=0, year=0)]"
     ]
    }
   ],
   "source": [
    "from pyspark.sql.functions import isnan, when, count, isnull\n",
    "\n",
    "columns = [entry[0] for entry in df.dtypes]\n",
    "df.select([count(when(isnan(c), c)).alias(c) for c in columns]).collect()"
   ]
  },
  {
   "cell_type": "code",
   "execution_count": 16,
   "metadata": {
    "application/vnd.databricks.v1+cell": {
     "inputWidgets": {},
     "nuid": "ecc73bc3-a9de-4af6-be6d-3d629b4edc25",
     "showTitle": false,
     "title": ""
    },
    "id": "FfTUaV9MbGOq"
   },
   "outputs": [
    {
     "data": {
      "application/vnd.jupyter.widget-view+json": {
       "model_id": "",
       "version_major": 2,
       "version_minor": 0
      },
      "text/plain": [
       "FloatProgress(value=0.0, bar_style='info', description='Progress:', layout=Layout(height='25px', width='50%'),…"
      ]
     },
     "metadata": {},
     "output_type": "display_data"
    },
    {
     "name": "stdout",
     "output_type": "stream",
     "text": [
      "Remaining records: 127045"
     ]
    }
   ],
   "source": [
    "df = df.filter(\"not (isnan(artist_latitude) or isnan(artist_longitude)) \")\n",
    "print('Remaining records: {}'.format(df.count()))"
   ]
  },
  {
   "attachments": {},
   "cell_type": "markdown",
   "metadata": {
    "application/vnd.databricks.v1+cell": {
     "inputWidgets": {},
     "nuid": "5337b93b-2e7b-42a3-95af-acb04aa860f0",
     "showTitle": false,
     "title": ""
    },
    "id": "C5YQ936PbGOq"
   },
   "source": [
    "Percentage of surviving datapoints:"
   ]
  },
  {
   "cell_type": "code",
   "execution_count": 17,
   "metadata": {
    "application/vnd.databricks.v1+cell": {
     "inputWidgets": {},
     "nuid": "5d738d09-aba9-4e13-a9b5-365ed92131a4",
     "showTitle": false,
     "title": ""
    },
    "id": "Hno4Hve4bGOq"
   },
   "outputs": [
    {
     "data": {
      "application/vnd.jupyter.widget-view+json": {
       "model_id": "",
       "version_major": 2,
       "version_minor": 0
      },
      "text/plain": [
       "FloatProgress(value=0.0, bar_style='info', description='Progress:', layout=Layout(height='25px', width='50%'),…"
      ]
     },
     "metadata": {},
     "output_type": "display_data"
    },
    {
     "name": "stdout",
     "output_type": "stream",
     "text": [
      "0.21830350622460112"
     ]
    }
   ],
   "source": [
    "df.count()/fulldfSize"
   ]
  },
  {
   "attachments": {},
   "cell_type": "markdown",
   "metadata": {
    "application/vnd.databricks.v1+cell": {
     "inputWidgets": {},
     "nuid": "eb77bbcf-691d-46dd-b405-5dd4ba0b1eb8",
     "showTitle": false,
     "title": ""
    },
    "id": "I3p1DrvmbGOq"
   },
   "source": [
    "### 4. Baseline\n",
    "\n",
    "We will be treating this problem as a classification problem, i.e. given some features, predict whether a song will be popular. We define a song to be popular if its `song_hotttnesss` value is above average. We will assign labels to the dataset with the above definition of \"popularity\"."
   ]
  },
  {
   "cell_type": "code",
   "execution_count": 18,
   "metadata": {
    "application/vnd.databricks.v1+cell": {
     "inputWidgets": {},
     "nuid": "2960145a-91b9-4f1f-aa69-fd49829bda64",
     "showTitle": false,
     "title": ""
    },
    "id": "yCGy3UtUbGOr"
   },
   "outputs": [
    {
     "data": {
      "application/vnd.jupyter.widget-view+json": {
       "model_id": "",
       "version_major": 2,
       "version_minor": 0
      },
      "text/plain": [
       "FloatProgress(value=0.0, bar_style='info', description='Progress:', layout=Layout(height='25px', width='50%'),…"
      ]
     },
     "metadata": {},
     "output_type": "display_data"
    }
   ],
   "source": [
    "from pyspark.sql.functions import col, expr, when\n",
    "\n",
    "meanHotness = np.mean(df.rdd.map(lambda row: row.song_hotttnesss).collect())\n",
    "df = df.withColumn(\"label\", (col(\"song_hotttnesss\") > meanHotness).cast(\"integer\"))"
   ]
  },
  {
   "attachments": {},
   "cell_type": "markdown",
   "metadata": {
    "application/vnd.databricks.v1+cell": {
     "inputWidgets": {},
     "nuid": "5cc243f5-904c-46a9-a45f-95cf47086ae4",
     "showTitle": false,
     "title": ""
    },
    "id": "7P7RUcVGbGOr"
   },
   "source": [
    "Class balance between popular = 1 and popular = 0"
   ]
  },
  {
   "cell_type": "code",
   "execution_count": 19,
   "metadata": {
    "application/vnd.databricks.v1+cell": {
     "inputWidgets": {},
     "nuid": "fffe7c1f-ab19-414a-b073-a07e5de6d7de",
     "showTitle": false,
     "title": ""
    },
    "id": "lijIsObbbGOr"
   },
   "outputs": [
    {
     "data": {
      "application/vnd.jupyter.widget-view+json": {
       "model_id": "",
       "version_major": 2,
       "version_minor": 0
      },
      "text/plain": [
       "FloatProgress(value=0.0, bar_style='info', description='Progress:', layout=Layout(height='25px', width='50%'),…"
      ]
     },
     "metadata": {},
     "output_type": "display_data"
    },
    {
     "name": "stdout",
     "output_type": "stream",
     "text": [
      "below average count: 55908\n",
      "above average count: 71137\n",
      "0.5599354559408084"
     ]
    }
   ],
   "source": [
    "above = df.rdd.map(lambda row: row.label).collect().count(1)\n",
    "below = df.rdd.map(lambda row: row.label).collect().count(0)\n",
    "\n",
    "print(f'below average count: {below}')\n",
    "print(f'above average count: {above}')\n",
    "\n",
    "print(above/(above + below))"
   ]
  },
  {
   "attachments": {},
   "cell_type": "markdown",
   "metadata": {
    "application/vnd.databricks.v1+cell": {
     "inputWidgets": {},
     "nuid": "a49f1fe3-9ecc-4f0a-8721-1da6bddf901d",
     "showTitle": false,
     "title": ""
    },
    "id": "CAFx-f3NbGOr"
   },
   "source": [
    "`year` feature centering"
   ]
  },
  {
   "cell_type": "code",
   "execution_count": 20,
   "metadata": {
    "application/vnd.databricks.v1+cell": {
     "inputWidgets": {},
     "nuid": "464fd15a-eb38-4767-9961-7367f398a2cf",
     "showTitle": false,
     "title": ""
    },
    "id": "vWfY2SR_bGOr"
   },
   "outputs": [
    {
     "data": {
      "application/vnd.jupyter.widget-view+json": {
       "model_id": "",
       "version_major": 2,
       "version_minor": 0
      },
      "text/plain": [
       "FloatProgress(value=0.0, bar_style='info', description='Progress:', layout=Layout(height='25px', width='50%'),…"
      ]
     },
     "metadata": {},
     "output_type": "display_data"
    }
   ],
   "source": [
    "minYear = np.min(df.rdd.map(lambda row: row.year).collect())\n",
    "df = df.withColumn(\"year\", df.year - minYear)"
   ]
  },
  {
   "attachments": {},
   "cell_type": "markdown",
   "metadata": {
    "application/vnd.databricks.v1+cell": {
     "inputWidgets": {},
     "nuid": "cba48875-ef80-4ef8-9b9d-f65ff3463ebc",
     "showTitle": false,
     "title": ""
    },
    "id": "iQypQ7mobGOr"
   },
   "source": [
    "concatenate all features using VectorAssembler into a feature vector and scale it. "
   ]
  },
  {
   "cell_type": "code",
   "execution_count": 21,
   "metadata": {
    "application/vnd.databricks.v1+cell": {
     "inputWidgets": {},
     "nuid": "5edbc59d-3f87-4436-9f5f-14928035d6ae",
     "showTitle": false,
     "title": ""
    },
    "id": "VOs9nbj3bGOr"
   },
   "outputs": [
    {
     "data": {
      "application/vnd.jupyter.widget-view+json": {
       "model_id": "",
       "version_major": 2,
       "version_minor": 0
      },
      "text/plain": [
       "FloatProgress(value=0.0, bar_style='info', description='Progress:', layout=Layout(height='25px', width='50%'),…"
      ]
     },
     "metadata": {},
     "output_type": "display_data"
    }
   ],
   "source": [
    "# assembling vector\n",
    "\n",
    "from pyspark.ml.feature import VectorAssembler\n",
    "vectorizer = VectorAssembler(inputCols = ['artist_familiarity', \n",
    "                         'artist_hotttnesss',\n",
    "                         'artist_latitude', \n",
    "                         'artist_longitude', \n",
    "                         'duration', 'end_of_fade_in',\n",
    "                         'key', 'key_confidence', 'loudness',\n",
    "                         'mode', 'mode_confidence', 'start_of_fade_out', \n",
    "                         'tempo', 'time_signature', 'time_signature_confidence', \n",
    "                         'year'], outputCol = \"features\")\n",
    "\n",
    "\n",
    "featuresDf = vectorizer.transform(df)"
   ]
  },
  {
   "cell_type": "code",
   "execution_count": 22,
   "metadata": {
    "application/vnd.databricks.v1+cell": {
     "inputWidgets": {},
     "nuid": "4f2dc7fa-29fb-46fd-b4db-c6ea6c017abb",
     "showTitle": false,
     "title": ""
    },
    "id": "J04hWIfybGOs"
   },
   "outputs": [
    {
     "data": {
      "application/vnd.jupyter.widget-view+json": {
       "model_id": "",
       "version_major": 2,
       "version_minor": 0
      },
      "text/plain": [
       "FloatProgress(value=0.0, bar_style='info', description='Progress:', layout=Layout(height='25px', width='50%'),…"
      ]
     },
     "metadata": {},
     "output_type": "display_data"
    }
   ],
   "source": [
    "# scaling\n",
    "from pyspark.ml.feature import StandardScaler\n",
    "scaler = StandardScaler(inputCol = \"features\", outputCol = \"scaledFeatures\")\n",
    "df_features = scaler.fit(featuresDf).transform(featuresDf)"
   ]
  },
  {
   "attachments": {},
   "cell_type": "markdown",
   "metadata": {
    "application/vnd.databricks.v1+cell": {
     "inputWidgets": {},
     "nuid": "c54cf7b6-0109-493b-bf45-58ae23407c64",
     "showTitle": false,
     "title": ""
    },
    "id": "cA6ciqngbGOs"
   },
   "source": [
    "Train test split 0.8/0.2"
   ]
  },
  {
   "cell_type": "code",
   "execution_count": 24,
   "metadata": {
    "application/vnd.databricks.v1+cell": {
     "inputWidgets": {},
     "nuid": "adaa8b39-f18e-47b6-bc98-8996bf4397bc",
     "showTitle": false,
     "title": ""
    },
    "id": "rZvvEWTrbGOs"
   },
   "outputs": [
    {
     "data": {
      "application/vnd.jupyter.widget-view+json": {
       "model_id": "",
       "version_major": 2,
       "version_minor": 0
      },
      "text/plain": [
       "FloatProgress(value=0.0, bar_style='info', description='Progress:', layout=Layout(height='25px', width='50%'),…"
      ]
     },
     "metadata": {},
     "output_type": "display_data"
    }
   ],
   "source": [
    "train, test = df_features.randomSplit([0.8, 0.2], seed = 10605)"
   ]
  },
  {
   "attachments": {},
   "cell_type": "markdown",
   "metadata": {
    "application/vnd.databricks.v1+cell": {
     "inputWidgets": {},
     "nuid": "00a18243-93e3-4368-a753-8bde1d19633a",
     "showTitle": false,
     "title": ""
    },
    "id": "qbmIO2ibbGOs"
   },
   "source": [
    "Instantiating an AUC Evaluator to evaluate our models"
   ]
  },
  {
   "cell_type": "code",
   "execution_count": 25,
   "metadata": {
    "application/vnd.databricks.v1+cell": {
     "inputWidgets": {},
     "nuid": "a318a005-a6f2-4d1e-89b2-83949396fb72",
     "showTitle": false,
     "title": ""
    },
    "id": "dK2VbP_obGOt"
   },
   "outputs": [
    {
     "data": {
      "application/vnd.jupyter.widget-view+json": {
       "model_id": "",
       "version_major": 2,
       "version_minor": 0
      },
      "text/plain": [
       "FloatProgress(value=0.0, bar_style='info', description='Progress:', layout=Layout(height='25px', width='50%'),…"
      ]
     },
     "metadata": {},
     "output_type": "display_data"
    }
   ],
   "source": [
    "from pyspark.ml.evaluation import BinaryClassificationEvaluator\n",
    "\n",
    "auc = BinaryClassificationEvaluator(metricName=\"areaUnderROC\", \n",
    "                                    rawPredictionCol=\"rawPrediction\",\n",
    "                                    labelCol=\"label\")"
   ]
  },
  {
   "attachments": {},
   "cell_type": "markdown",
   "metadata": {
    "application/vnd.databricks.v1+cell": {
     "inputWidgets": {},
     "nuid": "1968687d-252d-4073-a78c-12bafdfd5927",
     "showTitle": false,
     "title": ""
    },
    "id": "kLGozCzDbGOt"
   },
   "source": [
    "We will be fitting two models, logistic regression, and random forest, both with default hyperparameters. "
   ]
  },
  {
   "cell_type": "code",
   "execution_count": 26,
   "metadata": {
    "application/vnd.databricks.v1+cell": {
     "inputWidgets": {},
     "nuid": "49d94a8d-e607-4beb-8a06-30bbe5a2e542",
     "showTitle": false,
     "title": ""
    },
    "id": "ks5RQm4DbGOt"
   },
   "outputs": [
    {
     "data": {
      "application/vnd.jupyter.widget-view+json": {
       "model_id": "",
       "version_major": 2,
       "version_minor": 0
      },
      "text/plain": [
       "FloatProgress(value=0.0, bar_style='info', description='Progress:', layout=Layout(height='25px', width='50%'),…"
      ]
     },
     "metadata": {},
     "output_type": "display_data"
    },
    {
     "name": "stdout",
     "output_type": "stream",
     "text": [
      "Logistic Regression training AUC:  0.7539807042834269\n",
      "Logistic Regression test set AUC:  0.7572299243803849"
     ]
    }
   ],
   "source": [
    "# Logistic Regression\n",
    "from pyspark.ml.classification import LogisticRegression\n",
    "\n",
    "LR = LogisticRegression(featuresCol = \"scaledFeatures\", labelCol = \"label\")\n",
    "LR_fitted = LR.fit(train)\n",
    "LR_train_auc = auc.evaluate(LR_fitted.transform(train))\n",
    "LR_test_auc = auc.evaluate(LR_fitted.transform(test))\n",
    "\n",
    "print(\"Logistic Regression training AUC: \", LR_train_auc)\n",
    "print(\"Logistic Regression test set AUC: \", LR_test_auc)"
   ]
  },
  {
   "cell_type": "code",
   "execution_count": 27,
   "metadata": {
    "application/vnd.databricks.v1+cell": {
     "inputWidgets": {},
     "nuid": "d8e65973-9032-4f58-a280-45315d68b498",
     "showTitle": false,
     "title": ""
    },
    "id": "EXQ93tnObGOt"
   },
   "outputs": [
    {
     "data": {
      "application/vnd.jupyter.widget-view+json": {
       "model_id": "",
       "version_major": 2,
       "version_minor": 0
      },
      "text/plain": [
       "FloatProgress(value=0.0, bar_style='info', description='Progress:', layout=Layout(height='25px', width='50%'),…"
      ]
     },
     "metadata": {},
     "output_type": "display_data"
    },
    {
     "name": "stdout",
     "output_type": "stream",
     "text": [
      "Random Forest train auc:  0.7604101796617828\n",
      "Random Forest test auc:  0.7634025474634509"
     ]
    }
   ],
   "source": [
    "# Random Forest\n",
    "\n",
    "from pyspark.ml.classification import RandomForestClassifier\n",
    "\n",
    "RF = RandomForestClassifier(featuresCol = \"scaledFeatures\", labelCol = \"label\")\n",
    "RF_fitted = RF.fit(train)\n",
    "RF_train_auc = auc.evaluate(RF_fitted.transform(train))\n",
    "RF_test_auc = auc.evaluate(RF_fitted.transform(test))\n",
    "print(\"Random Forest train auc: \", RF_train_auc)\n",
    "print(\"Random Forest test auc: \", RF_test_auc)"
   ]
  },
  {
   "attachments": {},
   "cell_type": "markdown",
   "metadata": {
    "application/vnd.databricks.v1+cell": {
     "inputWidgets": {},
     "nuid": "48a5b8d3-d12f-4366-9cb7-9c36ad772196",
     "showTitle": false,
     "title": ""
    },
    "id": "hIa9p1q9bGOt"
   },
   "source": [
    "### 5. Featurization: Bag-of-Words and TF-IDF\n",
    "\n",
    "In our list of features, we have two features that contain text data, namely `title` and `artist_terms`. Since TF-IDF could help us featurize textual data. We will do that here to the `title` and `artist_terms` features. "
   ]
  },
  {
   "cell_type": "code",
   "execution_count": 28,
   "metadata": {
    "application/vnd.databricks.v1+cell": {
     "inputWidgets": {},
     "nuid": "e660b9c3-d8df-40db-8634-b8675a63e24a",
     "showTitle": false,
     "title": ""
    },
    "id": "6jqlCBvMbGOt"
   },
   "outputs": [
    {
     "data": {
      "application/vnd.jupyter.widget-view+json": {
       "model_id": "",
       "version_major": 2,
       "version_minor": 0
      },
      "text/plain": [
       "FloatProgress(value=0.0, bar_style='info', description='Progress:', layout=Layout(height='25px', width='50%'),…"
      ]
     },
     "metadata": {},
     "output_type": "display_data"
    }
   ],
   "source": [
    "# tf-idf on title\n",
    "\n",
    "from pyspark.ml.feature import Tokenizer, HashingTF, IDF\n",
    "\n",
    "TF_IDF_NUM_FEATS = 5 # HashingTF(..., numFeatures=TF_IDF_NUM_FEATS)\n",
    "\n",
    "tokenizer = Tokenizer(inputCol=\"title\", outputCol=\"tokenized\")\n",
    "df_tokenizer = tokenizer.transform(df)\n",
    "\n",
    "tf = HashingTF(inputCol = \"tokenized\", outputCol = \"title_tf\", numFeatures = TF_IDF_NUM_FEATS)\n",
    "tf_title = tf.transform(df_tokenizer)\n",
    "\n",
    "idf = IDF(inputCol = \"title_tf\", outputCol = \"title_features\")\n",
    "idf_model = idf.fit(tf_title)\n",
    "df_tf_idf = idf_model.transform(tf_title)"
   ]
  },
  {
   "cell_type": "markdown",
   "metadata": {
    "application/vnd.databricks.v1+cell": {
     "inputWidgets": {},
     "nuid": "db6c37e5-acc3-459d-af44-0aebeef4e223",
     "showTitle": false,
     "title": ""
    },
    "id": "JK40r1AlbGOt"
   },
   "source": [
    "Verify the resulting TF-IDF feature is indeed a vector of length `TF_IDF_NUM_FEATS`."
   ]
  },
  {
   "cell_type": "code",
   "execution_count": 29,
   "metadata": {
    "application/vnd.databricks.v1+cell": {
     "inputWidgets": {},
     "nuid": "93935194-25b2-43cc-b529-078353cddda4",
     "showTitle": false,
     "title": ""
    },
    "id": "gmz9L9kybGOt"
   },
   "outputs": [
    {
     "data": {
      "application/vnd.jupyter.widget-view+json": {
       "model_id": "",
       "version_major": 2,
       "version_minor": 0
      },
      "text/plain": [
       "FloatProgress(value=0.0, bar_style='info', description='Progress:', layout=Layout(height='25px', width='50%'),…"
      ]
     },
     "metadata": {},
     "output_type": "display_data"
    },
    {
     "name": "stdout",
     "output_type": "stream",
     "text": [
      "Row(title_features=SparseVector(5, {1: 0.8022, 2: 0.6637, 3: 0.696}))"
     ]
    }
   ],
   "source": [
    "# change variable/column name to yours\n",
    "import pyspark \n",
    "\n",
    "col_name = 'title_features'\n",
    "head = df_tf_idf.select(col_name).head() \n",
    "print(head)\n",
    "assert type(head[col_name]) == pyspark.ml.linalg.SparseVector\n",
    "assert len(head[col_name]) == TF_IDF_NUM_FEATS"
   ]
  },
  {
   "attachments": {},
   "cell_type": "markdown",
   "metadata": {
    "application/vnd.databricks.v1+cell": {
     "inputWidgets": {},
     "nuid": "2569bd2b-1646-4c9c-b2dd-a2d8f1dcaa35",
     "showTitle": false,
     "title": ""
    },
    "id": "45v57XVXbGOu"
   },
   "source": [
    "Converting `artist_terms` to type string array."
   ]
  },
  {
   "cell_type": "code",
   "execution_count": 30,
   "metadata": {
    "application/vnd.databricks.v1+cell": {
     "inputWidgets": {},
     "nuid": "09a6183e-6f84-4c3d-ba90-4b48cb653c3f",
     "showTitle": false,
     "title": ""
    },
    "id": "NKzvQv_obGOu"
   },
   "outputs": [
    {
     "data": {
      "application/vnd.jupyter.widget-view+json": {
       "model_id": "",
       "version_major": 2,
       "version_minor": 0
      },
      "text/plain": [
       "FloatProgress(value=0.0, bar_style='info', description='Progress:', layout=Layout(height='25px', width='50%'),…"
      ]
     },
     "metadata": {},
     "output_type": "display_data"
    }
   ],
   "source": [
    "from pyspark.sql.functions import udf\n",
    "import pyspark.sql.types as T\n",
    "\n",
    "toStringArray = udf(lambda s: s.split(\",\"), T.ArrayType(T.StringType()))\n",
    "\n",
    "df_tags_arr = df_tf_idf.withColumn(\"artist_terms_arr\", toStringArray(\"artist_terms\"))"
   ]
  },
  {
   "cell_type": "markdown",
   "metadata": {
    "application/vnd.databricks.v1+cell": {
     "inputWidgets": {},
     "nuid": "fb38600e-8562-4ddc-a3c9-2bd8a37b9a2e",
     "showTitle": false,
     "title": ""
    },
    "id": "JuSwcIRKbGOu"
   },
   "source": [
    "Let's do a quick check things indeed worked out."
   ]
  },
  {
   "cell_type": "code",
   "execution_count": 31,
   "metadata": {
    "application/vnd.databricks.v1+cell": {
     "inputWidgets": {},
     "nuid": "ad3d7ac2-13ba-4b70-9dbb-b44aa2ab73c7",
     "showTitle": false,
     "title": ""
    },
    "id": "81Ta3_ljbGOu"
   },
   "outputs": [
    {
     "data": {
      "application/vnd.jupyter.widget-view+json": {
       "model_id": "",
       "version_major": 2,
       "version_minor": 0
      },
      "text/plain": [
       "FloatProgress(value=0.0, bar_style='info', description='Progress:', layout=Layout(height='25px', width='50%'),…"
      ]
     },
     "metadata": {},
     "output_type": "display_data"
    },
    {
     "name": "stdout",
     "output_type": "stream",
     "text": [
      "Row(artist_terms_arr=[\"['hardcore punk'\", \" 'heavy metal'\", \" 'hardcore metal'\", \" 'thrash core'\", \" 'hard rock'\", \" 'death core'\", \" 'crossover thrash'\", \" 'metalcore'\", \" 'nu metal'\", \" 'rock'\", \" 'melodic black metal'\", \" 'thrash metal'\", \" 'hardcore'\", \" 'melodic death metal'\", \" 'power metal'\", \" 'screamo'\", \" 'progressive metal'\", \" 'black metal'\", \" 'punk'\", \" 'emo'\", \" 'death metal'\", \" 'hip hop'\", \" 'rap'\", \" 'alternative rock'\", \" 'punk metal'\", \" 'united states'\", \" 'singer-songwriter'\", \" 'metal'\", \" 'american'\", \" 'new york hardcore'\", \" 'alternative'\", \" 'germany'\", \" 'indie'\", \" 'christian'\", \" '00s'\", \" 'heavy'\", \" 'new york'\", \" 'crossover'\", \" 'new york city'\", \" 'old school hardcore'\", \" 'drums'\", \" 'trash metal'\", \" 'beat down']\"])"
     ]
    }
   ],
   "source": [
    "# change to your variable/column names\n",
    "col_name = 'artist_terms_arr'\n",
    "head = df_tags_arr.select(col_name).head()\n",
    "print(head)\n",
    "assert type(head[col_name]) == list"
   ]
  },
  {
   "attachments": {},
   "cell_type": "markdown",
   "metadata": {
    "application/vnd.databricks.v1+cell": {
     "inputWidgets": {},
     "nuid": "3b6e99de-065e-4b99-8af8-43b2be8a701c",
     "showTitle": false,
     "title": ""
    },
    "id": "hxEv4U3XbGOu"
   },
   "source": [
    "We will also perform a Bag of Words featurization"
   ]
  },
  {
   "cell_type": "code",
   "execution_count": 32,
   "metadata": {
    "application/vnd.databricks.v1+cell": {
     "inputWidgets": {},
     "nuid": "41494760-f599-41ac-8940-51aafd925454",
     "showTitle": false,
     "title": ""
    },
    "id": "7M3D9CCUbGOu"
   },
   "outputs": [
    {
     "data": {
      "application/vnd.jupyter.widget-view+json": {
       "model_id": "",
       "version_major": 2,
       "version_minor": 0
      },
      "text/plain": [
       "FloatProgress(value=0.0, bar_style='info', description='Progress:', layout=Layout(height='25px', width='50%'),…"
      ]
     },
     "metadata": {},
     "output_type": "display_data"
    }
   ],
   "source": [
    "# BoW on artist_terms\n",
    "\n",
    "from pyspark.ml.feature import CountVectorizer\n",
    "\n",
    "BOW_VOCAB_SIZE = 10 \n",
    "BOW_MIN_DF = 2\n",
    "# CountVectorizer(..., vocabSize=BOW_VOCAB_SIZE, minDF=BOW_MIN_DF)\n",
    "\n",
    "CV = CountVectorizer(inputCol = \"artist_terms_arr\", outputCol = \"artist_terms_bow\", \n",
    "                     vocabSize=BOW_VOCAB_SIZE, minDF=BOW_MIN_DF)\n",
    "CV_model = CV.fit(df_tags_arr)\n",
    "\n",
    "df_final = CV_model.transform(df_tags_arr)"
   ]
  },
  {
   "attachments": {},
   "cell_type": "markdown",
   "metadata": {
    "application/vnd.databricks.v1+cell": {
     "inputWidgets": {},
     "nuid": "1eac2c14-eb99-4792-8525-6e727adab8ef",
     "showTitle": false,
     "title": ""
    },
    "id": "yexg1l-UbGOv"
   },
   "source": [
    "Now with the new feature columns ready, we will run Logistic Regression and Random Forest again but now with the newly created features included. We will first assemble the vectors then scale accordingly. "
   ]
  },
  {
   "cell_type": "code",
   "execution_count": 34,
   "metadata": {
    "application/vnd.databricks.v1+cell": {
     "inputWidgets": {},
     "nuid": "5fd58d44-1e9d-4584-ade0-44514938d227",
     "showTitle": false,
     "title": ""
    },
    "id": "WnIpicdFbGOv"
   },
   "outputs": [
    {
     "data": {
      "application/vnd.jupyter.widget-view+json": {
       "model_id": "",
       "version_major": 2,
       "version_minor": 0
      },
      "text/plain": [
       "FloatProgress(value=0.0, bar_style='info', description='Progress:', layout=Layout(height='25px', width='50%'),…"
      ]
     },
     "metadata": {},
     "output_type": "display_data"
    }
   ],
   "source": [
    "# assembling vector\n",
    "assembler = VectorAssembler(inputCols = [\"artist_familiarity\", \"artist_hotttnesss\", \"artist_latitude\",\n",
    "                           \"artist_longitude\",\"duration\", \"end_of_fade_in\", \"key\",\n",
    "                           \"key_confidence\", \"loudness\", \"mode\", \"mode_confidence\", \n",
    "                           \"start_of_fade_out\",\"tempo\",\"time_signature\", \n",
    "                           \"time_signature_confidence\",\"year\",\"title_features\", \n",
    "                           \"artist_terms_bow\"], \n",
    "                            outputCol = \"features_tfidf_bow\")\n",
    "assembled = assembler.transform(df_final)\n"
   ]
  },
  {
   "cell_type": "code",
   "execution_count": 35,
   "metadata": {
    "application/vnd.databricks.v1+cell": {
     "inputWidgets": {},
     "nuid": "378f4098-7052-47bd-9af8-cadb54cb133a",
     "showTitle": false,
     "title": ""
    },
    "id": "ZdnoSxLqbGOv"
   },
   "outputs": [
    {
     "data": {
      "application/vnd.jupyter.widget-view+json": {
       "model_id": "",
       "version_major": 2,
       "version_minor": 0
      },
      "text/plain": [
       "FloatProgress(value=0.0, bar_style='info', description='Progress:', layout=Layout(height='25px', width='50%'),…"
      ]
     },
     "metadata": {},
     "output_type": "display_data"
    }
   ],
   "source": [
    "# scaling\n",
    "scaler = StandardScaler(inputCol = \"features_tfidf_bow\", outputCol = \"scaledFeaturesMore\")\n",
    "df_scaled_features = scaler.fit(assembled).transform(assembled)"
   ]
  },
  {
   "attachments": {},
   "cell_type": "markdown",
   "metadata": {
    "application/vnd.databricks.v1+cell": {
     "inputWidgets": {},
     "nuid": "210655de-2f0c-4406-9603-b24f515236a7",
     "showTitle": false,
     "title": ""
    },
    "id": "qiELJKJvbGOv"
   },
   "source": [
    "### 6. Modeling with TF-IDF + BoW Features"
   ]
  },
  {
   "attachments": {},
   "cell_type": "markdown",
   "metadata": {
    "application/vnd.databricks.v1+cell": {
     "inputWidgets": {},
     "nuid": "f65fb59c-7633-4116-aad9-7f4e1e218eec",
     "showTitle": false,
     "title": ""
    },
    "id": "zQD8qUrUbGOv"
   },
   "source": [
    "Same 0.8/0.2 train test split. "
   ]
  },
  {
   "cell_type": "code",
   "execution_count": 37,
   "metadata": {
    "application/vnd.databricks.v1+cell": {
     "inputWidgets": {},
     "nuid": "30ccee50-61a1-4b2a-a71f-7ec982384c37",
     "showTitle": false,
     "title": ""
    },
    "id": "dsXN1DHEbGOw"
   },
   "outputs": [
    {
     "data": {
      "application/vnd.jupyter.widget-view+json": {
       "model_id": "",
       "version_major": 2,
       "version_minor": 0
      },
      "text/plain": [
       "FloatProgress(value=0.0, bar_style='info', description='Progress:', layout=Layout(height='25px', width='50%'),…"
      ]
     },
     "metadata": {},
     "output_type": "display_data"
    }
   ],
   "source": [
    "train, test = df_scaled_features.randomSplit([0.8,0.2])"
   ]
  },
  {
   "attachments": {},
   "cell_type": "markdown",
   "metadata": {
    "application/vnd.databricks.v1+cell": {
     "inputWidgets": {},
     "nuid": "9e3bd4f6-c1be-4a8e-8f67-78068a40aa89",
     "showTitle": false,
     "title": ""
    },
    "id": "UVmYHu4jbGOw"
   },
   "source": [
    "train/evaluate the LR and RF model with default hyperparameters."
   ]
  },
  {
   "cell_type": "code",
   "execution_count": 38,
   "metadata": {
    "application/vnd.databricks.v1+cell": {
     "inputWidgets": {},
     "nuid": "e53618df-d85b-4de1-98c9-dbcf8b1bb13a",
     "showTitle": false,
     "title": ""
    },
    "id": "BMIltHGQbGOw"
   },
   "outputs": [
    {
     "data": {
      "application/vnd.jupyter.widget-view+json": {
       "model_id": "",
       "version_major": 2,
       "version_minor": 0
      },
      "text/plain": [
       "FloatProgress(value=0.0, bar_style='info', description='Progress:', layout=Layout(height='25px', width='50%'),…"
      ]
     },
     "metadata": {},
     "output_type": "display_data"
    },
    {
     "name": "stdout",
     "output_type": "stream",
     "text": [
      "Logistic Regression train AUC:  0.7667059357869557\n",
      "Logistic Regression test AUC:  0.769483612193748"
     ]
    }
   ],
   "source": [
    "# Logistic Regression\n",
    "\n",
    "LR = LogisticRegression(featuresCol = \"scaledFeaturesMore\", labelCol = \"label\")\n",
    "LRText_fitted = LR.fit(train)\n",
    "LR_train_auc = auc.evaluate(LRText_fitted.transform(train))\n",
    "LR_test_auc = auc.evaluate(LRText_fitted.transform(test))\n",
    "\n",
    "print(\"Logistic Regression train AUC: \", LR_train_auc)\n",
    "print(\"Logistic Regression test AUC: \", LR_test_auc)"
   ]
  },
  {
   "cell_type": "code",
   "execution_count": 39,
   "metadata": {
    "application/vnd.databricks.v1+cell": {
     "inputWidgets": {},
     "nuid": "2a20b8f0-79ee-4acd-8c9b-a1bb2c064464",
     "showTitle": false,
     "title": ""
    },
    "id": "XW1MkYvibGOw"
   },
   "outputs": [
    {
     "data": {
      "application/vnd.jupyter.widget-view+json": {
       "model_id": "",
       "version_major": 2,
       "version_minor": 0
      },
      "text/plain": [
       "FloatProgress(value=0.0, bar_style='info', description='Progress:', layout=Layout(height='25px', width='50%'),…"
      ]
     },
     "metadata": {},
     "output_type": "display_data"
    },
    {
     "name": "stdout",
     "output_type": "stream",
     "text": [
      "Random Forest train auc:  0.7693025133486413\n",
      "Random Forest test auc:  0.7725866223353435"
     ]
    }
   ],
   "source": [
    "# Random Forest\n",
    "\n",
    "RF = RandomForestClassifier(featuresCol = \"scaledFeaturesMore\", labelCol = \"label\")\n",
    "RFText_fitted = RF.fit(train)\n",
    "RF_train_auc = auc.evaluate(RFText_fitted.transform(train))\n",
    "RF_test_auc = auc.evaluate(RFText_fitted.transform(test))\n",
    "print(\"Random Forest train auc: \", RF_train_auc)\n",
    "print(\"Random Forest test auc: \", RF_test_auc)"
   ]
  },
  {
   "attachments": {},
   "cell_type": "markdown",
   "metadata": {
    "application/vnd.databricks.v1+cell": {
     "inputWidgets": {},
     "nuid": "d848886b-1e65-4482-9a04-44c8ee5d3c36",
     "showTitle": false,
     "title": ""
    },
    "id": "LPiEUwnfbGOw"
   },
   "source": [
    "### ROC curves for the four models (including two baselines) "
   ]
  },
  {
   "cell_type": "code",
   "execution_count": 40,
   "metadata": {
    "application/vnd.databricks.v1+cell": {
     "inputWidgets": {},
     "nuid": "73b7752e-0cb6-4657-ac53-73eeeaabe9b3",
     "showTitle": false,
     "title": ""
    },
    "id": "6unBCK-rbGOw"
   },
   "outputs": [
    {
     "data": {
      "application/vnd.jupyter.widget-view+json": {
       "model_id": "",
       "version_major": 2,
       "version_minor": 0
      },
      "text/plain": [
       "FloatProgress(value=0.0, bar_style='info', description='Progress:', layout=Layout(height='25px', width='50%'),…"
      ]
     },
     "metadata": {},
     "output_type": "display_data"
    }
   ],
   "source": [
    "plt.clf()\n",
    "fig, ax = plt.subplots(figsize=(7, 4))\n",
    "models = [(\"LR Baseline\", LR_fitted), \n",
    "          (\"RF Baseline\", RF_fitted), \n",
    "          (\"LR w/ Text Features\", LRText_fitted), \n",
    "          (\"RF w/ Text Features\", RFText_fitted)]\n",
    "\n",
    "for label, model in models:\n",
    "    roc = model.summary.roc \n",
    "    plt.plot(roc.select(\"FPR\").collect(), roc.select(\"TPR\").collect(), label = label)\n",
    "    plt.show()\n",
    "\n",
    "plt.legend()\n",
    "plt.title(\"ROC Curves\")\n",
    "plt.xlabel(\"False Positive Rate\")\n",
    "plt.ylabel(\"True Positive Rate\")\n",
    "\n",
    "plt.show()"
   ]
  },
  {
   "cell_type": "code",
   "execution_count": 41,
   "metadata": {},
   "outputs": [
    {
     "data": {
      "application/vnd.jupyter.widget-view+json": {
       "model_id": "",
       "version_major": 2,
       "version_minor": 0
      },
      "text/plain": [
       "FloatProgress(value=0.0, bar_style='info', description='Progress:', layout=Layout(height='25px', width='50%'),…"
      ]
     },
     "metadata": {},
     "output_type": "display_data"
    },
    {
     "data": {
      "image/png": "[encoded data removed]",
      "text/plain": [
       "<IPython.core.display.Image object>"
      ]
     },
     "metadata": {},
     "output_type": "display_data"
    }
   ],
   "source": [
    "%matplot plt"
   ]
  },
  {
   "attachments": {},
   "cell_type": "markdown",
   "metadata": {
    "application/vnd.databricks.v1+cell": {
     "inputWidgets": {},
     "nuid": "c48783f2-5004-492e-b286-e0e879c6173c",
     "showTitle": false,
     "title": ""
    },
    "id": "64qRWzqSbGOw"
   },
   "source": [
    "### 7. Additional Modeling"
   ]
  },
  {
   "attachments": {},
   "cell_type": "markdown",
   "metadata": {
    "application/vnd.databricks.v1+cell": {
     "inputWidgets": {},
     "nuid": "e42bf942-1ab5-460a-a96c-bafaf5cbc2a1",
     "showTitle": false,
     "title": ""
    },
    "id": "bU6JcYWybGOw"
   },
   "source": [
    "To improve model performance, we will now use Gradient Boosted Trees to predict popularity. "
   ]
  },
  {
   "cell_type": "code",
   "execution_count": 42,
   "metadata": {},
   "outputs": [
    {
     "data": {
      "application/vnd.jupyter.widget-view+json": {
       "model_id": "",
       "version_major": 2,
       "version_minor": 0
      },
      "text/plain": [
       "FloatProgress(value=0.0, bar_style='info', description='Progress:', layout=Layout(height='25px', width='50%'),…"
      ]
     },
     "metadata": {},
     "output_type": "display_data"
    }
   ],
   "source": [
    "TF_IDF_NUM_FEATS = 20 # HashingTF(..., numFeatures=TF_IDF_NUM_FEATS)\n",
    "\n",
    "tokenizer = Tokenizer(inputCol=\"title\", outputCol=\"tokenized\")\n",
    "df_tokenizer = tokenizer.transform(df)\n",
    "# tf frequencies\n",
    "tf = HashingTF(inputCol = \"tokenized\", outputCol = \"title_tf\", numFeatures = TF_IDF_NUM_FEATS)\n",
    "tf_title = tf.transform(df_tokenizer)\n",
    "\n",
    "# idf weights\n",
    "idf = IDF(inputCol = \"title_tf\", outputCol = \"title_features_20\")\n",
    "idf_model = idf.fit(tf_title)\n",
    "df_tf_idf = idf_model.transform(tf_title)\n",
    "\n",
    "df_tags_arr = df_tf_idf.withColumn(\"artist_terms_arr\", toStringArray(\"artist_terms\"))"
   ]
  },
  {
   "cell_type": "code",
   "execution_count": 43,
   "metadata": {},
   "outputs": [
    {
     "data": {
      "application/vnd.jupyter.widget-view+json": {
       "model_id": "",
       "version_major": 2,
       "version_minor": 0
      },
      "text/plain": [
       "FloatProgress(value=0.0, bar_style='info', description='Progress:', layout=Layout(height='25px', width='50%'),…"
      ]
     },
     "metadata": {},
     "output_type": "display_data"
    }
   ],
   "source": [
    "BOW_VOCAB_SIZE = 20\n",
    "BOW_MIN_DF = 2\n",
    "\n",
    "CV = CountVectorizer(inputCol = \"artist_terms_arr\", outputCol = \"artist_terms_bow_20\", \n",
    "                     vocabSize=BOW_VOCAB_SIZE, minDF=BOW_MIN_DF)\n",
    "CV_model = CV.fit(df_tags_arr)\n",
    "df_final = CV_model.transform(df_tags_arr)"
   ]
  },
  {
   "cell_type": "code",
   "execution_count": 44,
   "metadata": {},
   "outputs": [
    {
     "data": {
      "application/vnd.jupyter.widget-view+json": {
       "model_id": "",
       "version_major": 2,
       "version_minor": 0
      },
      "text/plain": [
       "FloatProgress(value=0.0, bar_style='info', description='Progress:', layout=Layout(height='25px', width='50%'),…"
      ]
     },
     "metadata": {},
     "output_type": "display_data"
    }
   ],
   "source": [
    "assembler = VectorAssembler(inputCols = [\"artist_familiarity\", \"artist_hotttnesss\", \"artist_latitude\",\n",
    "                           \"artist_longitude\",\"duration\", \"end_of_fade_in\", \"key\",\n",
    "                           \"key_confidence\", \"loudness\", \"mode\", \"mode_confidence\", \n",
    "                           \"start_of_fade_out\",\"tempo\",\"time_signature\", \n",
    "                           \"time_signature_confidence\",\"year\",\"title_features_20\", \n",
    "                           \"artist_terms_bow_20\"], \n",
    "                            outputCol = (\"features_tfidf_bowBetter\"))\n",
    "\n",
    "assembled = assembler.transform(df_final)"
   ]
  },
  {
   "cell_type": "code",
   "execution_count": 45,
   "metadata": {},
   "outputs": [
    {
     "data": {
      "application/vnd.jupyter.widget-view+json": {
       "model_id": "",
       "version_major": 2,
       "version_minor": 0
      },
      "text/plain": [
       "FloatProgress(value=0.0, bar_style='info', description='Progress:', layout=Layout(height='25px', width='50%'),…"
      ]
     },
     "metadata": {},
     "output_type": "display_data"
    }
   ],
   "source": [
    "scaler = StandardScaler(inputCol = \"features_tfidf_bowBetter\", outputCol = \"scaledFeaturesAll\")\n",
    "df_scaled_features = scaler.fit(assembled).transform(assembled)"
   ]
  },
  {
   "attachments": {},
   "cell_type": "markdown",
   "metadata": {
    "application/vnd.databricks.v1+cell": {
     "inputWidgets": {},
     "nuid": "3607f3e4-9fad-4ab5-85af-6a948e3139b3",
     "showTitle": false,
     "title": ""
    },
    "id": "YtUulxsMbGOx"
   },
   "source": [
    "## Performance does improve!"
   ]
  },
  {
   "cell_type": "code",
   "execution_count": 46,
   "metadata": {
    "application/vnd.databricks.v1+cell": {
     "inputWidgets": {},
     "nuid": "44ae4071-492f-418b-9c26-9f484730e6ed",
     "showTitle": false,
     "title": ""
    },
    "id": "LdqjloDQbGOw"
   },
   "outputs": [
    {
     "data": {
      "application/vnd.jupyter.widget-view+json": {
       "model_id": "",
       "version_major": 2,
       "version_minor": 0
      },
      "text/plain": [
       "FloatProgress(value=0.0, bar_style='info', description='Progress:', layout=Layout(height='25px', width='50%'),…"
      ]
     },
     "metadata": {},
     "output_type": "display_data"
    },
    {
     "name": "stdout",
     "output_type": "stream",
     "text": [
      "Gradient Boosting train auc:  0.9688743781701182\n",
      "Gradient Boosting test auc:  0.8492214787429924"
     ]
    }
   ],
   "source": [
    "\n",
    "from pyspark.ml.classification import GBTClassifier\n",
    "\n",
    "train, test = df_scaled_features.randomSplit([0.8,0.2], seed=10605)\n",
    "\n",
    "\n",
    "GB = GBTClassifier(featuresCol = \"scaledFeaturesAll\", \n",
    "                   labelCol = \"label\", \n",
    "                   maxDepth = 12, \n",
    "                   maxBins = 40)\n",
    "\n",
    "GB_model = GB.fit(train)\n",
    "GB_train_auc = auc.evaluate(GB_model.transform(train))\n",
    "GB_test_auc = auc.evaluate(GB_model.transform(test))\n",
    "print(\"Gradient Boosting train auc: \", GB_train_auc)\n",
    "print(\"Gradient Boosting test auc: \", GB_test_auc)"
   ]
  }
 ],
 "metadata": {
  "application/vnd.databricks.v1+notebook": {
   "dashboards": [],
   "language": "python",
   "notebookMetadata": {
    "pythonIndentUnit": 2
   },
   "notebookName": "HW4",
   "notebookOrigID": 379635546166569,
   "widgets": {}
  },
  "colab": {
   "name": "HW4.ipynb",
   "provenance": []
  },
  "kernelspec": {
   "display_name": "PySpark",
   "language": "python",
   "name": "pysparkkernel"
  },
  "language_info": {
   "codemirror_mode": {
    "name": "python",
    "version": 3
   },
   "file_extension": ".py",
   "mimetype": "text/x-python",
   "name": "pyspark",
   "pygments_lexer": "python3"
  }
 },
 "nbformat": 4,
 "nbformat_minor": 4
}
